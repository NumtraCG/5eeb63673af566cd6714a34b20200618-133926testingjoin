{
 "cells": [
  {
   "cell_type": "markdown",
   "metadata": {},
   "source": [
    "***GENERATED CODE FOR testingjoin PIPELINE***\n",
    "***DON'T EDIT THIS CODE***"
   ]
  },
  {
   "cell_type": "markdown",
   "metadata": {},
   "source": [
    "**READING DATAFRAME**"
   ]
  },
  {
   "cell_type": "code",
   "execution_count": null,
   "metadata": {},
   "outputs": [],
   "source": [
    "import datetime\n",
    "import logging\n",
    "import warnings\n",
    "warnings.filterwarnings('ignore')\n",
    "logging.basicConfig(format='%(levelname)s:%(message)s', level=logging.INFO)\n",
    "\n",
    "\n",
    "class DBFSConnector:\n",
    "\n",
    "    def fetch(spark, config):\n",
    "        df = spark.read.\\\n",
    "            options(header='true' if eval(config)[\"is_header\"] == \"Use Header Line\" else 'false',\n",
    "                    inferschema='true',\n",
    "                    delimiter=eval(config)[\"delimiter\"])\\\n",
    "            .csv(eval(config)['url'])\n",
    "        display(df.limit(2).toPandas())\n",
    "        return df\n",
    "\n",
    "    def put(df, spark, config):\n",
    "        return df.write.format('csv').options(header='true' if eval(config)[\"is_header\"] == \"Use Header Line\" else 'false',\n",
    "                                              delimiter=eval(config)[\"delimiter\"]).save((\"%s %s\") % (datetime.datetime.now().strftime(\"%Y-%m-%d %H.%M.%S\")+\"_\", eval(config)['url']))\n"
   ]
  },
  {
   "cell_type": "markdown",
   "metadata": {},
   "source": [
    "**PERFORMING OPERATIONS**"
   ]
  },
  {
   "cell_type": "code",
   "execution_count": null,
   "metadata": {},
   "outputs": [],
   "source": [
    "\n",
    "\n",
    "def QueryEditor(spark, joindataobj):\n",
    "    for source in joindataobj[\"sourcesForQuery\"]:\n",
    "        sourcename = source['sourcename']\n",
    "        source['sourcename'] = spark.read.options(header='true', inferschema='true', delimiter=',')\\\n",
    "            .csv('dbfs:' + source['sourcepath'])\n",
    "        source['sourcename'].createOrReplaceTempView(sourcename)\n",
    "    joinDf = spark.sql(joindataobj['querytext'])\n",
    "    df = removeIfDuplicates(joinDf)\n",
    "    return df\n",
    "\n",
    "\n",
    "def removeIfDuplicates(joinedDf):\n",
    "    cols_new = []\n",
    "    seen = set()\n",
    "    for c in joinedDf.columns:\n",
    "        cols_new.append('{}_dup'.format(c) if c in seen else c)\n",
    "        seen.add(c)\n",
    "    df = joinedDf.toDF(*cols_new).select(*\n",
    "                                         [c for c in cols_new if not c.endswith('_dup')])\n",
    "    return df\n"
   ]
  },
  {
   "cell_type": "markdown",
   "metadata": {},
   "source": [
    "**TRANSFORMING DATAFRAME**"
   ]
  },
  {
   "cell_type": "code",
   "execution_count": null,
   "metadata": {},
   "outputs": [],
   "source": [
    "import json\n",
    "from pyspark.sql.functions import round\n",
    "from pyspark.ml.feature import Binarizer\n",
    "from pyspark.sql.functions import col, when\n",
    "from pyspark.sql.functions import mean, stddev, min, max, col\n",
    "\n",
    "\n",
    "class CleanseData:\n",
    "    # def __init__(self,df):\n",
    "    #     #print()\n",
    "\n",
    "    def replaceByMean(self, feature, df, mean_=-1):\n",
    "\n",
    "        meanValue = df.select(mean(col(feature.name)).alias(\n",
    "            'mean')).collect()[0][\"mean\"]\n",
    "        df.fillna(meanValue, subset=[feature.name])\n",
    "        df.withColumn(feature.name, when(col(feature.name) == \" \",\n",
    "                                         meanValue).otherwise(col(feature.name).cast(\"Integer\")))\n",
    "        return df\n",
    "\n",
    "    def replaceByMax(self, feature, df, max_=-1):\n",
    "        maxValue = df.select(max(col(feature.name)).alias('max')).collect()[\n",
    "            0][\"max\"]\n",
    "        df.fillna(maxValue, subset=[feature.name])\n",
    "        df = df.withColumn(feature.name,\n",
    "                           when(col(feature.name) == \" \", maxValue).otherwise(col(feature.name)))\n",
    "        return df\n",
    "\n",
    "    def replaceByMin(self, feature, df, min_=-1):\n",
    "        minValue = df.select(min(col(feature.name)).alias('min')).collect()[\n",
    "            0][\"min\"]\n",
    "        df.fillna(minValue, subset=[feature.name])\n",
    "        df = df.withColumn(feature.name,\n",
    "                           when(col(feature.name) == \" \", minValue).otherwise(col(feature.name)))\n",
    "        return df\n",
    "\n",
    "    def replaceByStandardDeviation(self, feature, df, stddev_=-1):\n",
    "        stddevValue = df.select(stddev(col(feature.name)).alias(\n",
    "            'stddev')).collect()[0][\"stddev\"]\n",
    "        df.fillna(stddevValue, subset=[feature.name])\n",
    "        df = df.withColumn(feature.name,\n",
    "                           when(col(feature.name) == \" \", stddevValue).otherwise(col(feature.name)))\n",
    "        return df\n",
    "\n",
    "    def replaceDateRandomly(self, feature, df):\n",
    "        fillValue = df.where(col(feature.name).isNotNull()\n",
    "                             ).head(1)[0][feature.name]\n",
    "        df.fillna(str(fillValue), subset=[feature.name])\n",
    "        df = df.withColumn(feature.name,\n",
    "                           when(col(feature.name) == \" \", fillValue).otherwise(col(feature.name)))\n",
    "        # print(\"CleanseData:replaceDateRandomly Schema : \", df.#printSchema())\n",
    "        return df\n",
    "\n",
    "    def replaceNullValues(self, fList, df):\n",
    "        featuresList = df.schema.fields\n",
    "        for featureObj in fList:\n",
    "            for feat in featuresList:\n",
    "                if featureObj[\"feature\"] in feat.name:\n",
    "                    featureName = feat\n",
    "                    if \"mean\" in featureObj[\"replaceby\"]:\n",
    "                        df = self.replaceByMean(featureName, df)\n",
    "                    elif \"max\" in featureObj[\"replaceby\"]:\n",
    "                        df = self.replaceByMax(featureName, df)\n",
    "                    elif \"min\" in featureObj[\"replaceby\"]:\n",
    "                        df = self.replaceByMin(featureName, df)\n",
    "                    elif \"stddev\" in featureObj[\"replaceby\"]:\n",
    "                        df = self.replaceByStandardDeviation(featureName, df)\n",
    "                    elif \"random\" in featureObj[\"replaceby\"]:\n",
    "                        df = self.replaceDateRandomly(featureName, df)\n",
    "        return df\n",
    "\n",
    "\n",
    "def BinarizerTransform(df, params, transformationData={}):\n",
    "    dfReturn = df\n",
    "    transform_params = params\n",
    "    feature = transform_params['feature']\n",
    "    outcol = feature + \"_binarizer\"\n",
    "    dfReturn = dfReturn.withColumn(\"feature_cast\", dfReturn[feature].cast(\"double\")).drop(feature)\\\n",
    "        .withColumnRenamed(\"feature_cast\", feature)\n",
    "\n",
    "    dfReturn = dfReturn.fillna({feature: 0.0})\n",
    "    binarizer = Binarizer(threshold=float(\n",
    "        transformationData['threshold']), inputCol=feature, outputCol=outcol)\n",
    "    binarizedDataFrame = binarizer.transform(dfReturn)\n",
    "\n",
    "    # binarizedDataFrame=binarizedDataFrame.drop(feature).withColumnRenamed(outcol,feature)\n",
    "\n",
    "    dfReturn = binarizedDataFrame\n",
    "    dfReturn = dfReturn.withColumn(feature, round(dfReturn[feature], 2))\n",
    "\n",
    "    return dfReturn\n",
    "\n",
    "\n",
    "class TransformationMain:\n",
    "    # TODO: change df argument in run with following\n",
    "    def run(transformationDF, config):\n",
    "        configObj = json.loads(config)\n",
    "        featureData = configObj[\"FE\"]\n",
    "        transformationDF = CleanseData().replaceNullValues(featureData, transformationDF)\n",
    "        transformationDF = BinarizerTransform(transformationDF, {'transformationsData': [{'feature_label': 'price_sum', 'threshold': 246583.91364207672, 'transformation_label': 'Binarizer'}], 'feature': 'price_sum', 'type': 'real', 'selected': 'True', 'replaceby': 'mean', 'stats': {\n",
    "                                              'count': '2630', 'mean': '244535.63', 'stddev': '1378741.74', 'min': '81.57', 'max': '1.5953485738516184E7', 'missing': '0'}, 'transformation': [{'transformation': 'Binarizer', 'selectedAsDefault': 1}]}, {'feature_label': 'price_sum', 'threshold': 246583.91364207672, 'transformation_label': 'Binarizer'})\n",
    "        transformationDF = transformationDF.drop('price_sum')\n",
    "        transformationDF = BinarizerTransform(transformationDF, {'transformationsData': [{'feature_label': 'pprice_sum', 'threshold': 121587.10852794604, 'transformation_label': 'Binarizer'}], 'feature': 'pprice_sum', 'type': 'real', 'selected': 'True', 'replaceby': 'mean', 'stats': {\n",
    "            'count': '2630', 'mean': '121402.26', 'stddev': '70526.54', 'min': '12913.851499999999', 'max': '448746.4825971811', 'missing': '0'}, 'transformation': [{'transformation': 'Binarizer', 'selectedAsDefault': 1}]}, {'feature_label': 'pprice_sum', 'threshold': 121587.10852794604, 'transformation_label': 'Binarizer'})\n",
    "        transformationDF = transformationDF.drop('pprice_sum')\n",
    "        display(transformationDF.limit(2).toPandas())\n",
    "        return transformationDF\n"
   ]
  },
  {
   "cell_type": "markdown",
   "metadata": {},
   "source": [
    "**TRAIN MODEL**"
   ]
  },
  {
   "cell_type": "code",
   "execution_count": null,
   "metadata": {},
   "outputs": [],
   "source": [
    "from tpot import TPOTClassifier\n",
    "from sklearn.model_selection import train_test_split\n",
    "import pyspark\n",
    "\n",
    "\n",
    "def functionClassification(sparkDF, listOfFeatures, label):\n",
    "    sparkDF.persist(pyspark.StorageLevel.MEMORY_AND_DISK)\n",
    "    df = sparkDF.toPandas()\n",
    "    X = df.drop(label, axis=1).values\n",
    "    y = df[label].values\n",
    "    X_train, X_test, y_train, y_test = train_test_split(\n",
    "        X, y, random_state=1, test_size=0.1)\n",
    "    tpotModel = TPOTClassifier(verbosity=3, n_jobs=-1, generations=10, max_time_mins=5,\n",
    "                               population_size=15)\n",
    "    tpotModel.fit(X_train, y_train)\n",
    "    display(\" Accuracy of Model : %s\" % tpotModel.score(X_test, y_test))\n",
    "    data = {'model': tpotModel,\n",
    "            'X_test': X_test,\n",
    "            'y_test': y_test,\n",
    "            'label': label,\n",
    "            'columnNames': sparkDF.columns}\n",
    "    return data\n"
   ]
  },
  {
   "cell_type": "markdown",
   "metadata": {},
   "source": [
    "**READING DATAFRAME**"
   ]
  },
  {
   "cell_type": "code",
   "execution_count": null,
   "metadata": {},
   "outputs": [],
   "source": [
    "from pyspark.sql import SparkSession\n",
    "spark = SparkSession.builder.getOrCreate()\n",
    "\n",
    "%run testingjoinHooks.ipynb\n",
    "try:\n",
    "\tsourcePreExecutionHook()\n",
    "\n",
    "\tcampaign = DBFSConnector.fetch(spark, \"{'url': '/CoupounRedemption/campaign.csv', 'file_type': 'Delimeted', 'delimiter': ',', 'is_header': 'Use Header Line'}\")\n",
    "\tsourcePostExecutionHook(campaign)\n",
    "\n",
    "except Exception as ex: \n",
    "\tlogging.error(ex)\n",
    "\ttrain = DBFSConnector.fetch(spark, \"{'url': '/CoupounRedemption/train.csv', 'file_type': 'Delimeted', 'delimiter': ',', 'is_header': 'Use Header Line'}\")\n",
    "\n",
    "\tcoupon = DBFSConnector.fetch(spark, \"{'url': '/CoupounRedemption/coupon.csv', 'file_type': 'Delimeted', 'delimiter': ',', 'is_header': 'Use Header Line'}\")\n",
    "\n",
    "\ttransaction = DBFSConnector.fetch(spark, \"{'url': '/CoupounRedemption/transactions.csv', 'file_type': 'Delimeted', 'delimiter': ',', 'is_header': 'Use Header Line'}\")\n",
    "\n",
    "\tcustomerdemographics = DBFSConnector.fetch(spark, \"{'url': '/CoupounRedemption/cust_demo.csv', 'file_type': 'Delimeted', 'delimiter': ',', 'is_header': 'Use Header Line'}\")\n",
    "\n"
   ]
  },
  {
   "cell_type": "markdown",
   "metadata": {},
   "source": [
    "**PERFORMING OPERATIONS**"
   ]
  },
  {
   "cell_type": "code",
   "execution_count": null,
   "metadata": {},
   "outputs": [],
   "source": [
    "%run testingjoinHooks.ipynb\n",
    "try:\n",
    "\toperationPreExecutionHook()\n",
    "\n",
    "joindata = QueryEditor(spark, {\"querytext\": \"SELECT * \\r\\nFROM train\\r\\nJOIN coupon \\r\\nON train.coupon_id = coupon.coupon_id\\r\\nJOIN campaign \\r\\nON train.campaign_id = campaign.campaign_id\\r\\nJOIN customerdemographics \\r\\nON train.customer_id = customerdemographics.customer_id\\r\\nJOIN transaction \\r\\nON customerdemographics.customer_id = transaction.customer_id\", \"sourcesForQuery\": [{\"sourcename\": \"coupon\", \"sourcepath\": \"/CoupounRedemption/coupon.csv\", \"sourceid\": \"5eeb64383af566cd6714a4b1\"}, {\"sourcename\": \"campaign\", \"sourcepath\": \"/CoupounRedemption/campaign.csv\", \"sourceid\": \"5eeb643d3af566cd6714a4b3\"}, {\"sourcename\": \"customerdemographics\", \"sourcepath\": \"/CoupounRedemption/cust_demo.csv\", \"sourceid\": \"5eeb63673af566cd6714a34c\"}, {\"sourcename\": \"transaction\", \"sourcepath\": \"/CoupounRedemption/transactions.csv\", \"sourceid\": \"5eeb64303af566cd6714a4b0\"}, {\"sourcename\": \"train\", \"sourcepath\": \"/CoupounRedemption/train.csv\", \"sourceid\": \"5eeb643a3af566cd6714a4b2\"}], \"fieldsForQuery\": [{\"sourcename\": \"coupon\", \"fieldname\": \"coupon_id\"}, {\"sourcename\": \"campaign\", \"fieldname\": \"campaign_id\"}, {\"sourcename\": \"customerdemographics\", \"fieldname\": \"customer_id\"}, {\"sourcename\": \"transaction\", \"fieldname\": \"customer_id\"}, {\"sourcename\": \"train\", \"fieldname\": \"id\"}, {\"sourcename\": \"train\", \"fieldname\": \"campaign_id\"}, {\"sourcename\": \"train\", \"fieldname\": \"coupon_id\"}, {\"sourcename\": \"train\", \"fieldname\": \"customer_id\"}]})\n",
    "\toperationPostExecutionHook(joindata)\n",
    "\n",
    "except Exception as ex: \n",
    "\tlogging.error(ex)\n"
   ]
  },
  {
   "cell_type": "markdown",
   "metadata": {},
   "source": [
    "**TRANSFORMING DATAFRAME**"
   ]
  },
  {
   "cell_type": "code",
   "execution_count": null,
   "metadata": {},
   "outputs": [],
   "source": [
    "%run testingjoinHooks.ipynb\n",
    "try:\n",
    "\ttransformationPreExecutionHook()\n",
    "\n",
    "\ttestingjoinautofe = TransformationMain.run(joindata,json.dumps( {\"FE\": [{\"transformationsData\": [{\"transformation_label\": \"novalue\"}], \"feature\": \"coupon_id\", \"transformation\": [{\"transformation\": \"novalue\", \"selectedAsDefault\": 1}], \"type\": \"numeric\", \"replaceby\": \"mean\", \"selected\": \"True\", \"stats\": {\"count\": \"2630\", \"mean\": \"578.56\", \"stddev\": \"330.88\", \"min\": \"1\", \"max\": \"1114\", \"missing\": \"0\"}}, {\"transformationsData\": [{\"transformation_label\": \"novalue\"}], \"feature\": \"customer_id\", \"transformation\": [{\"transformation\": \"novalue\", \"selectedAsDefault\": 1}], \"type\": \"numeric\", \"replaceby\": \"mean\", \"selected\": \"True\", \"stats\": {\"count\": \"2630\", \"mean\": \"778.6\", \"stddev\": \"458.98\", \"min\": \"1\", \"max\": \"1581\", \"missing\": \"0\"}}, {\"transformationsData\": [{\"transformation_label\": \"novalue\"}], \"feature\": \"redemption_status\", \"transformation\": [{\"transformation\": \"novalue\", \"selectedAsDefault\": 1}], \"type\": \"numeric\", \"replaceby\": \"mean\", \"selected\": \"True\", \"stats\": {\"count\": \"2630\", \"mean\": \"0.01\", \"stddev\": \"0.1\", \"min\": \"0\", \"max\": \"1\", \"missing\": \"0\"}}, {\"transformationsData\": [{\"transformation_label\": \"novalue\"}], \"feature\": \"brand\", \"transformation\": [{\"transformation\": \"novalue\", \"selectedAsDefault\": 1}], \"type\": \"numeric\", \"replaceby\": \"mean\", \"selected\": \"True\", \"stats\": {\"count\": \"2630\", \"mean\": \"1114.31\", \"stddev\": \"1379.28\", \"min\": \"1\", \"max\": \"5391\", \"missing\": \"0\"}}, {\"transformationsData\": [{\"transformation_label\": \"novalue\"}], \"feature\": \"brand_type\", \"transformation\": [{\"transformation\": \"novalue\", \"selectedAsDefault\": 1}], \"type\": \"numeric\", \"replaceby\": \"mean\", \"selected\": \"True\", \"stats\": {\"count\": \"2630\", \"mean\": \"0.2\", \"stddev\": \"0.4\", \"min\": \"0\", \"max\": \"1\", \"missing\": \"0\"}}, {\"transformationsData\": [{\"transformation_label\": \"novalue\"}], \"feature\": \"category\", \"transformation\": [{\"transformation\": \"novalue\", \"selectedAsDefault\": 1}], \"type\": \"numeric\", \"replaceby\": \"mean\", \"selected\": \"True\", \"stats\": {\"count\": \"2630\", \"mean\": \"7.48\", \"stddev\": \"2.66\", \"min\": \"1\", \"max\": \"16\", \"missing\": \"0\"}}, {\"transformationsData\": [{\"transformation_label\": \"novalue\"}], \"feature\": \"cd_sum\", \"type\": \"real\", \"selected\": \"True\", \"replaceby\": \"mean\", \"stats\": {\"count\": \"2630\", \"mean\": \"-1549.58\", \"stddev\": \"7989.86\", \"min\": \"-113627.33999999987\", \"max\": \"0.0\", \"missing\": \"0\"}, \"transformation\": [{\"transformation\": \"novalue\", \"selectedAsDefault\": 1}]}, {\"transformationsData\": [{\"transformation_label\": \"novalue\"}], \"feature\": \"coupon_discount\", \"type\": \"real\", \"selected\": \"True\", \"replaceby\": \"mean\", \"stats\": {\"count\": \"2630\", \"mean\": \"-2.21\", \"stddev\": \"5.5\", \"min\": \"-71.24\", \"max\": \"0.0\", \"missing\": \"0\"}, \"transformation\": [{\"transformation\": \"novalue\", \"selectedAsDefault\": 1}]}, {\"transformationsData\": [{\"transformation_label\": \"novalue\"}], \"feature\": \"coupon_used\", \"type\": \"real\", \"selected\": \"True\", \"replaceby\": \"mean\", \"stats\": {\"count\": \"2630\", \"mean\": \"45.87\", \"stddev\": \"224.02\", \"min\": \"0.0\", \"max\": \"2661.0\", \"missing\": \"0\"}, \"transformation\": [{\"transformation\": \"novalue\", \"selectedAsDefault\": 1}]}, {\"transformationsData\": [{\"transformation_label\": \"novalue\"}], \"feature\": \"item_counts\", \"transformation\": [{\"transformation\": \"novalue\", \"selectedAsDefault\": 1}], \"type\": \"numeric\", \"replaceby\": \"mean\", \"selected\": \"True\", \"stats\": {\"count\": \"2630\", \"mean\": \"99.47\", \"stddev\": \"726.64\", \"min\": \"1\", \"max\": \"11813\", \"missing\": \"0\"}}, {\"transformationsData\": [{\"transformation_label\": \"novalue\"}], \"feature\": \"no_of_customers\", \"type\": \"real\", \"selected\": \"True\", \"replaceby\": \"mean\", \"stats\": {\"count\": \"2630\", \"mean\": \"17.22\", \"stddev\": \"13.44\", \"min\": \"1.0\", \"max\": \"118.57142857142857\", \"missing\": \"0\"}, \"transformation\": [{\"transformation\": \"novalue\", \"selectedAsDefault\": 1}]}, {\"transformationsData\": [{\"transformation_label\": \"novalue\"}], \"feature\": \"od_sum\", \"type\": \"real\", \"selected\": \"True\", \"replaceby\": \"mean\", \"stats\": {\"count\": \"2630\", \"mean\": \"-38329.1\", \"stddev\": \"226311.66\", \"min\": \"-3259657.797895498\", \"max\": \"0.0\", \"missing\": \"0\"}, \"transformation\": [{\"transformation\": \"novalue\", \"selectedAsDefault\": 1}]}, {\"transformationsData\": [{\"transformation_label\": \"novalue\"}], \"feature\": \"other_discount\", \"type\": \"real\", \"selected\": \"True\", \"replaceby\": \"mean\", \"stats\": {\"count\": \"2630\", \"mean\": \"-21.05\", \"stddev\": \"20.52\", \"min\": \"-481.4993333333333\", \"max\": \"0.0\", \"missing\": \"0\"}, \"transformation\": [{\"transformation\": \"novalue\", \"selectedAsDefault\": 1}]}, {\"transformationsData\": [{\"feature_label\": \"price_sum\", \"threshold\": 246583.91364207672, \"transformation_label\": \"Binarizer\"}], \"feature\": \"price_sum\", \"type\": \"real\", \"selected\": \"True\", \"replaceby\": \"mean\", \"stats\": {\"count\": \"2630\", \"mean\": \"244535.63\", \"stddev\": \"1378741.74\", \"min\": \"81.57\", \"max\": \"1.5953485738516184E7\", \"missing\": \"0\"}, \"transformation\": [{\"transformation\": \"Binarizer\", \"selectedAsDefault\": 1}]}, {\"transformationsData\": [{\"transformation_label\": \"novalue\"}], \"feature\": \"qu_sum\", \"type\": \"real\", \"selected\": \"True\", \"replaceby\": \"mean\", \"stats\": {\"count\": \"2630\", \"mean\": \"2876.69\", \"stddev\": \"16821.8\", \"min\": \"1.0\", \"max\": \"207579.0\", \"missing\": \"0\"}, \"transformation\": [{\"transformation\": \"novalue\", \"selectedAsDefault\": 1}]}, {\"transformationsData\": [{\"transformation_label\": \"novalue\"}], \"feature\": \"quantity\", \"type\": \"real\", \"selected\": \"True\", \"replaceby\": \"mean\", \"stats\": {\"count\": \"2630\", \"mean\": \"1.17\", \"stddev\": \"0.26\", \"min\": \"1.0\", \"max\": \"4.096091911309303\", \"missing\": \"0\"}, \"transformation\": [{\"transformation\": \"novalue\", \"selectedAsDefault\": 1}]}, {\"transformationsData\": [{\"transformation_label\": \"novalue\"}], \"feature\": \"selling_price\", \"type\": \"real\", \"selected\": \"True\", \"replaceby\": \"mean\", \"stats\": {\"count\": \"2630\", \"mean\": \"163.9\", \"stddev\": \"143.4\", \"min\": \"13.416928746729855\", \"max\": \"1235.863616557734\", \"missing\": \"0\"}, \"transformation\": [{\"transformation\": \"novalue\", \"selectedAsDefault\": 1}]}, {\"transformationsData\": [{\"transformation_label\": \"novalue\"}], \"feature\": \"t_counts\", \"type\": \"real\", \"selected\": \"True\", \"replaceby\": \"mean\", \"stats\": {\"count\": \"2630\", \"mean\": \"2247.04\", \"stddev\": \"12872.79\", \"min\": \"1.0\", \"max\": \"158788.0\", \"missing\": \"0\"}, \"transformation\": [{\"transformation\": \"novalue\", \"selectedAsDefault\": 1}]}, {\"transformationsData\": [{\"transformation_label\": \"novalue\"}], \"feature\": \"total_discount_mean\", \"type\": \"real\", \"selected\": \"True\", \"replaceby\": \"mean\", \"stats\": {\"count\": \"2630\", \"mean\": \"-23.26\", \"stddev\": \"21.94\", \"min\": \"-508.808\", \"max\": \"0.0\", \"missing\": \"0\"}, \"transformation\": [{\"transformation\": \"novalue\", \"selectedAsDefault\": 1}]}, {\"transformationsData\": [{\"transformation_label\": \"novalue\"}], \"feature\": \"total_discount_sum\", \"type\": \"real\", \"selected\": \"True\", \"replaceby\": \"mean\", \"stats\": {\"count\": \"2630\", \"mean\": \"-39878.68\", \"stddev\": \"232273.75\", \"min\": \"-3344221.267895495\", \"max\": \"0.0\", \"missing\": \"0\"}, \"transformation\": [{\"transformation\": \"novalue\", \"selectedAsDefault\": 1}]}, {\"transformationsData\": [{\"transformation_label\": \"novalue\"}], \"feature\": \"campaign_type\", \"transformation\": [{\"transformation\": \"novalue\", \"selectedAsDefault\": 1}], \"type\": \"numeric\", \"replaceby\": \"mean\", \"selected\": \"True\", \"stats\": {\"count\": \"2630\", \"mean\": \"0.29\", \"stddev\": \"0.45\", \"min\": \"0\", \"max\": \"1\", \"missing\": \"0\"}}, {\"transformationsData\": [{\"transformation_label\": \"novalue\"}], \"feature\": \"campaign_duration\", \"transformation\": [{\"transformation\": \"novalue\", \"selectedAsDefault\": 1}], \"type\": \"numeric\", \"replaceby\": \"mean\", \"selected\": \"True\", \"stats\": {\"count\": \"2630\", \"mean\": \"44.63\", \"stddev\": \"6.35\", \"min\": \"32\", \"max\": \"63\", \"missing\": \"0\"}}, {\"transformationsData\": [{\"transformation_label\": \"novalue\"}], \"feature\": \"age_range\", \"transformation\": [{\"transformation\": \"novalue\", \"selectedAsDefault\": 1}], \"type\": \"numeric\", \"replaceby\": \"mean\", \"selected\": \"True\", \"stats\": {\"count\": \"2630\", \"mean\": \"2.45\", \"stddev\": \"1.24\", \"min\": \"0\", \"max\": \"5\", \"missing\": \"0\"}}, {\"transformationsData\": [{\"transformation_label\": \"novalue\"}], \"feature\": \"marital_status\", \"transformation\": [{\"transformation\": \"novalue\", \"selectedAsDefault\": 1}], \"type\": \"numeric\", \"replaceby\": \"mean\", \"selected\": \"True\", \"stats\": {\"count\": \"2630\", \"mean\": \"0.39\", \"stddev\": \"0.49\", \"min\": \"0\", \"max\": \"1\", \"missing\": \"0\"}}, {\"transformationsData\": [{\"transformation_label\": \"novalue\"}], \"feature\": \"rented\", \"transformation\": [{\"transformation\": \"novalue\", \"selectedAsDefault\": 1}], \"type\": \"numeric\", \"replaceby\": \"mean\", \"selected\": \"True\", \"stats\": {\"count\": \"2630\", \"mean\": \"0.05\", \"stddev\": \"0.22\", \"min\": \"0\", \"max\": \"1\", \"missing\": \"0\"}}, {\"transformationsData\": [{\"transformation_label\": \"novalue\"}], \"feature\": \"family_size\", \"transformation\": [{\"transformation\": \"novalue\", \"selectedAsDefault\": 1}], \"type\": \"numeric\", \"replaceby\": \"mean\", \"selected\": \"True\", \"stats\": {\"count\": \"2630\", \"mean\": \"2.24\", \"stddev\": \"1.21\", \"min\": \"1\", \"max\": \"5\", \"missing\": \"0\"}}, {\"transformationsData\": [{\"transformation_label\": \"novalue\"}], \"feature\": \"no_of_children\", \"transformation\": [{\"transformation\": \"novalue\", \"selectedAsDefault\": 1}], \"type\": \"numeric\", \"replaceby\": \"mean\", \"selected\": \"True\", \"stats\": {\"count\": \"2630\", \"mean\": \"0.62\", \"stddev\": \"0.98\", \"min\": \"0\", \"max\": \"3\", \"missing\": \"0\"}}, {\"transformationsData\": [{\"transformation_label\": \"novalue\"}], \"feature\": \"income_bracket\", \"transformation\": [{\"transformation\": \"novalue\", \"selectedAsDefault\": 1}], \"type\": \"numeric\", \"replaceby\": \"mean\", \"selected\": \"True\", \"stats\": {\"count\": \"2630\", \"mean\": \"4.72\", \"stddev\": \"2.3\", \"min\": \"1\", \"max\": \"12\", \"missing\": \"0\"}}, {\"transformationsData\": [{\"transformation_label\": \"novalue\"}], \"feature\": \"day\", \"transformation\": [{\"transformation\": \"novalue\", \"selectedAsDefault\": 1}], \"type\": \"numeric\", \"replaceby\": \"mean\", \"selected\": \"True\", \"stats\": {\"count\": \"2630\", \"mean\": \"15.06\", \"stddev\": \"8.55\", \"min\": \"1\", \"max\": \"31\", \"missing\": \"0\"}}, {\"transformationsData\": [{\"transformation_label\": \"novalue\"}], \"feature\": \"dow\", \"transformation\": [{\"transformation\": \"novalue\", \"selectedAsDefault\": 1}], \"type\": \"numeric\", \"replaceby\": \"mean\", \"selected\": \"True\", \"stats\": {\"count\": \"2630\", \"mean\": \"3.2\", \"stddev\": \"1.68\", \"min\": \"0\", \"max\": \"6\", \"missing\": \"0\"}}, {\"transformationsData\": [{\"transformation_label\": \"novalue\"}], \"feature\": \"no_of_items\", \"transformation\": [{\"transformation\": \"novalue\", \"selectedAsDefault\": 1}], \"type\": \"numeric\", \"replaceby\": \"mean\", \"selected\": \"True\", \"stats\": {\"count\": \"2630\", \"mean\": \"663.15\", \"stddev\": \"326.89\", \"min\": \"97\", \"max\": \"2088\", \"missing\": \"0\"}}, {\"transformationsData\": [{\"transformation_label\": \"novalue\"}], \"feature\": \"month\", \"transformation\": [{\"transformation\": \"novalue\", \"selectedAsDefault\": 1}], \"type\": \"numeric\", \"replaceby\": \"mean\", \"selected\": \"True\", \"stats\": {\"count\": \"2630\", \"mean\": \"4.85\", \"stddev\": \"2.19\", \"min\": \"1\", \"max\": \"12\", \"missing\": \"0\"}}, {\"transformationsData\": [{\"transformation_label\": \"novalue\"}], \"feature\": \"cdd_sum\", \"type\": \"real\", \"selected\": \"True\", \"replaceby\": \"mean\", \"stats\": {\"count\": \"2630\", \"mean\": \"-856.18\", \"stddev\": \"1469.21\", \"min\": \"-11937.800000000007\", \"max\": \"0.0\", \"missing\": \"0\"}, \"transformation\": [{\"transformation\": \"novalue\", \"selectedAsDefault\": 1}]}, {\"transformationsData\": [{\"transformation_label\": \"novalue\"}], \"feature\": \"customer_id_count\", \"transformation\": [{\"transformation\": \"novalue\", \"selectedAsDefault\": 1}], \"type\": \"numeric\", \"replaceby\": \"mean\", \"selected\": \"True\", \"stats\": {\"count\": \"2630\", \"mean\": \"1181.78\", \"stddev\": \"663.73\", \"min\": \"144\", \"max\": \"4134\", \"missing\": \"0\"}}, {\"transformationsData\": [{\"transformation_label\": \"novalue\"}], \"feature\": \"odd_sum\", \"type\": \"real\", \"selected\": \"True\", \"replaceby\": \"mean\", \"stats\": {\"count\": \"2630\", \"mean\": \"-16240.94\", \"stddev\": \"9842.46\", \"min\": \"-62321.37241271824\", \"max\": \"-873.1749999999997\", \"missing\": \"0\"}, \"transformation\": [{\"transformation\": \"novalue\", \"selectedAsDefault\": 1}]}, {\"transformationsData\": [{\"transformation_label\": \"novalue\"}], \"feature\": \"qa_sum\", \"transformation\": [{\"transformation\": \"novalue\", \"selectedAsDefault\": 1}], \"type\": \"numeric\", \"replaceby\": \"mean\", \"selected\": \"True\", \"stats\": {\"count\": \"2630\", \"mean\": \"180700.08\", \"stddev\": \"277362.29\", \"min\": \"179\", \"max\": \"2617544\", \"missing\": \"0\"}}, {\"transformationsData\": [{\"feature_label\": \"pprice_sum\", \"threshold\": 121587.10852794604, \"transformation_label\": \"Binarizer\"}], \"feature\": \"pprice_sum\", \"type\": \"real\", \"selected\": \"True\", \"replaceby\": \"mean\", \"stats\": {\"count\": \"2630\", \"mean\": \"121402.26\", \"stddev\": \"70526.54\", \"min\": \"12913.851499999999\", \"max\": \"448746.4825971811\", \"missing\": \"0\"}, \"transformation\": [{\"transformation\": \"Binarizer\", \"selectedAsDefault\": 1}]}, {\"feature\": \"price_sum_binarizer_transform\", \"transformation\": [{\"transformation\": \"novalue\", \"selectedAsDefault\": 0}], \"transformationsData\": [{\"transformation_label\": \"novalue\"}], \"type\": \"real\", \"selected\": \"True\", \"stats\": {\"count\": \"2630\", \"mean\": \"0.09\", \"stddev\": \"0.29\", \"min\": \"0.0\", \"max\": \"1.0\", \"missing\": \"0\"}}, {\"feature\": \"pprice_sum_binarizer_transform\", \"transformation\": [{\"transformation\": \"novalue\", \"selectedAsDefault\": 0}], \"transformationsData\": [{\"transformation_label\": \"novalue\"}], \"type\": \"real\", \"selected\": \"True\", \"stats\": {\"count\": \"2630\", \"mean\": \"0.4\", \"stddev\": \"0.49\", \"min\": \"0.0\", \"max\": \"1.0\", \"missing\": \"0\"}}]}))\n",
    "\n",
    "\ttransformationPostExecutionHook(testingjoinautofe)\n",
    "\n",
    "except Exception as ex: \n",
    "\tlogging.error(ex)\n"
   ]
  },
  {
   "cell_type": "markdown",
   "metadata": {},
   "source": [
    "**TRAIN MODEL**"
   ]
  },
  {
   "cell_type": "code",
   "execution_count": null,
   "metadata": {},
   "outputs": [],
   "source": [
    "%run testingjoinHooks.ipynb\n",
    "try:\n",
    "\tmlPreExecutionHook()\n",
    "\n",
    "\tdataAutoML=functionClassification(testingjoinautofe, [\"coupon_id\", \"customer_id\", \"brand\", \"brand_type\", \"category\", \"cd_sum\", \"coupon_discount\", \"coupon_used\", \"item_counts\", \"no_of_customers\", \"od_sum\", \"other_discount\", \"qu_sum\", \"quantity\", \"selling_price\", \"t_counts\", \"total_discount_mean\", \"total_discount_sum\", \"campaign_type\", \"campaign_duration\", \"age_range\", \"marital_status\", \"rented\", \"family_size\", \"no_of_children\", \"income_bracket\", \"day\", \"dow\", \"no_of_items\", \"month\", \"cdd_sum\", \"customer_id_count\", \"odd_sum\", \"qa_sum\", \"price_sum_binarizer\", \"pprice_sum_binarizer\"], \"redemption_status\")\n",
    "\n",
    "\tmlPostExecutionHook(dataAutoML)\n",
    "\n",
    "except Exception as ex: \n",
    "\tlogging.error(ex)\n"
   ]
  },
  {
   "cell_type": "markdown",
   "metadata": {},
   "source": [
    "**PREDICT ON TRAINED MODEL**"
   ]
  },
  {
   "cell_type": "code",
   "execution_count": null,
   "metadata": {},
   "outputs": [],
   "source": [
    "import pandas as pd\n",
    "import numpy as np\n",
    "import sklearn.metrics\n",
    "\n",
    "try:\n",
    "    model=dataAutoML['model']\n",
    "    X_test=dataAutoML['X_test']\n",
    "    y_test=dataAutoML['y_test']\n",
    "    label=dataAutoML['label']\n",
    "    columnNames=dataAutoML['columnNames']\n",
    "    if label in columnNames:\n",
    "        columnNames.remove(label)\n",
    "    predicted=label+\"_predicted\"\n",
    "    y_predicted=model.predict(X_test)\n",
    "    df =pd.DataFrame(X_test , columns=columnNames)\n",
    "    df[label]=y_test\n",
    "    df[predicted]=y_predicted\n",
    "    columnNames.insert(0,predicted)\n",
    "    columnNames.insert(0,label)\n",
    "    Accuracy = np.round((100 * sklearn.metrics.accuracy_score(y_true=y_test, y_pred=y_predicted)), 1)\n",
    "    F1= np.round(\n",
    "            (100 * sklearn.metrics.f1_score(y_true=y_test, y_pred=y_predicted, average=\"weighted\")), 1)\n",
    "    Precision= np.round((\n",
    "                100 * sklearn.metrics.precision_score(y_true=y_test, y_pred=y_predicted, average=\"weighted\")), 1)\n",
    "    Recall = np.round((\n",
    "                100 * sklearn.metrics.recall_score(y_true=y_test, y_pred=y_predicted, average=\"weighted\")), 1)\n",
    "    display(\" Accuracy of Prediction on test data    : %s\"%Accuracy)\n",
    "    display(\" F1 score of Prediction on test data    : %s\"%F1)\n",
    "    display(\" Precision of Prediction on test data   : %s\"%Precision)\n",
    "    display(\" Recall of Prediction on test data      : %s\"%Recall)\n",
    "    display(df.head())\n",
    "except Exception as ex:\n",
    "    logging.error(ex)\n",
    "\n"
   ]
  }
 ],
 "metadata": {},
 "nbformat": 4,
 "nbformat_minor": 4
}
